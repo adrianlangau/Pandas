{
 "cells": [
  {
   "cell_type": "code",
   "execution_count": null,
   "id": "5b18849d-afe3-422a-926b-8c7713e422a8",
   "metadata": {},
   "outputs": [],
   "source": [
    "# Activity 4 Stu_Pandas_Visualization\n",
    "\n",
    "# In this activity, Harold has been asked to analyze the financial data of the companies in the S&P 500. Specifically, Harold has been asked to find and plot the following:\n",
    "# 1. A pie chart of the S&P 500 company sector distribution.\n",
    "# 2. A bar chart of the top 20 market cap companies.A scatter plot of the price vs. earnings relationship.\n",
    "# 3. Use the Pandas library to help Harold perform this analysis and generate the plots."
   ]
  },
  {
   "cell_type": "code",
   "execution_count": 3,
   "id": "c981548d-d701-41df-ace4-5582920fcece",
   "metadata": {},
   "outputs": [
    {
     "data": {
      "text/html": [
       "<div>\n",
       "<style scoped>\n",
       "    .dataframe tbody tr th:only-of-type {\n",
       "        vertical-align: middle;\n",
       "    }\n",
       "\n",
       "    .dataframe tbody tr th {\n",
       "        vertical-align: top;\n",
       "    }\n",
       "\n",
       "    .dataframe thead th {\n",
       "        text-align: right;\n",
       "    }\n",
       "</style>\n",
       "<table border=\"1\" class=\"dataframe\">\n",
       "  <thead>\n",
       "    <tr style=\"text-align: right;\">\n",
       "      <th></th>\n",
       "      <th>Symbol</th>\n",
       "      <th>Name</th>\n",
       "      <th>Sector</th>\n",
       "      <th>Price</th>\n",
       "      <th>Price/Earnings</th>\n",
       "      <th>Dividend Yield</th>\n",
       "      <th>Earnings/Share</th>\n",
       "      <th>52 Week Low</th>\n",
       "      <th>52 Week High</th>\n",
       "      <th>Market Cap</th>\n",
       "      <th>EBITDA</th>\n",
       "      <th>Price/Sales</th>\n",
       "      <th>Price/Book</th>\n",
       "      <th>SEC Filings</th>\n",
       "    </tr>\n",
       "  </thead>\n",
       "  <tbody>\n",
       "    <tr>\n",
       "      <th>0</th>\n",
       "      <td>MMM</td>\n",
       "      <td>3M Company</td>\n",
       "      <td>Industrials</td>\n",
       "      <td>222.89</td>\n",
       "      <td>24.31</td>\n",
       "      <td>2.332862</td>\n",
       "      <td>7.92</td>\n",
       "      <td>259.77</td>\n",
       "      <td>175.490</td>\n",
       "      <td>138721055226</td>\n",
       "      <td>9.048000e+09</td>\n",
       "      <td>4.390271</td>\n",
       "      <td>11.34</td>\n",
       "      <td>http://www.sec.gov/cgi-bin/browse-edgar?action...</td>\n",
       "    </tr>\n",
       "    <tr>\n",
       "      <th>1</th>\n",
       "      <td>AOS</td>\n",
       "      <td>A.O. Smith Corp</td>\n",
       "      <td>Industrials</td>\n",
       "      <td>60.24</td>\n",
       "      <td>27.76</td>\n",
       "      <td>1.147959</td>\n",
       "      <td>1.70</td>\n",
       "      <td>68.39</td>\n",
       "      <td>48.925</td>\n",
       "      <td>10783419933</td>\n",
       "      <td>6.010000e+08</td>\n",
       "      <td>3.575483</td>\n",
       "      <td>6.35</td>\n",
       "      <td>http://www.sec.gov/cgi-bin/browse-edgar?action...</td>\n",
       "    </tr>\n",
       "    <tr>\n",
       "      <th>2</th>\n",
       "      <td>ABT</td>\n",
       "      <td>Abbott Laboratories</td>\n",
       "      <td>Health Care</td>\n",
       "      <td>56.27</td>\n",
       "      <td>22.51</td>\n",
       "      <td>1.908982</td>\n",
       "      <td>0.26</td>\n",
       "      <td>64.60</td>\n",
       "      <td>42.280</td>\n",
       "      <td>102121042306</td>\n",
       "      <td>5.744000e+09</td>\n",
       "      <td>3.740480</td>\n",
       "      <td>3.19</td>\n",
       "      <td>http://www.sec.gov/cgi-bin/browse-edgar?action...</td>\n",
       "    </tr>\n",
       "    <tr>\n",
       "      <th>3</th>\n",
       "      <td>ABBV</td>\n",
       "      <td>AbbVie Inc.</td>\n",
       "      <td>Health Care</td>\n",
       "      <td>108.48</td>\n",
       "      <td>19.41</td>\n",
       "      <td>2.499560</td>\n",
       "      <td>3.29</td>\n",
       "      <td>125.86</td>\n",
       "      <td>60.050</td>\n",
       "      <td>181386347059</td>\n",
       "      <td>1.031000e+10</td>\n",
       "      <td>6.291571</td>\n",
       "      <td>26.14</td>\n",
       "      <td>http://www.sec.gov/cgi-bin/browse-edgar?action...</td>\n",
       "    </tr>\n",
       "    <tr>\n",
       "      <th>4</th>\n",
       "      <td>ACN</td>\n",
       "      <td>Accenture plc</td>\n",
       "      <td>Information Technology</td>\n",
       "      <td>150.51</td>\n",
       "      <td>25.47</td>\n",
       "      <td>1.714470</td>\n",
       "      <td>5.44</td>\n",
       "      <td>162.60</td>\n",
       "      <td>114.820</td>\n",
       "      <td>98765855553</td>\n",
       "      <td>5.643228e+09</td>\n",
       "      <td>2.604117</td>\n",
       "      <td>10.62</td>\n",
       "      <td>http://www.sec.gov/cgi-bin/browse-edgar?action...</td>\n",
       "    </tr>\n",
       "  </tbody>\n",
       "</table>\n",
       "</div>"
      ],
      "text/plain": [
       "  Symbol                 Name                  Sector   Price  Price/Earnings  \\\n",
       "0    MMM           3M Company             Industrials  222.89           24.31   \n",
       "1    AOS      A.O. Smith Corp             Industrials   60.24           27.76   \n",
       "2    ABT  Abbott Laboratories             Health Care   56.27           22.51   \n",
       "3   ABBV          AbbVie Inc.             Health Care  108.48           19.41   \n",
       "4    ACN        Accenture plc  Information Technology  150.51           25.47   \n",
       "\n",
       "   Dividend Yield  Earnings/Share  52 Week Low  52 Week High    Market Cap  \\\n",
       "0        2.332862            7.92       259.77       175.490  138721055226   \n",
       "1        1.147959            1.70        68.39        48.925   10783419933   \n",
       "2        1.908982            0.26        64.60        42.280  102121042306   \n",
       "3        2.499560            3.29       125.86        60.050  181386347059   \n",
       "4        1.714470            5.44       162.60       114.820   98765855553   \n",
       "\n",
       "         EBITDA  Price/Sales  Price/Book  \\\n",
       "0  9.048000e+09     4.390271       11.34   \n",
       "1  6.010000e+08     3.575483        6.35   \n",
       "2  5.744000e+09     3.740480        3.19   \n",
       "3  1.031000e+10     6.291571       26.14   \n",
       "4  5.643228e+09     2.604117       10.62   \n",
       "\n",
       "                                         SEC Filings  \n",
       "0  http://www.sec.gov/cgi-bin/browse-edgar?action...  \n",
       "1  http://www.sec.gov/cgi-bin/browse-edgar?action...  \n",
       "2  http://www.sec.gov/cgi-bin/browse-edgar?action...  \n",
       "3  http://www.sec.gov/cgi-bin/browse-edgar?action...  \n",
       "4  http://www.sec.gov/cgi-bin/browse-edgar?action...  "
      ]
     },
     "execution_count": 3,
     "metadata": {},
     "output_type": "execute_result"
    }
   ],
   "source": [
    "# Import pandas module & library module\n",
    "\n",
    "import pandas as pd\n",
    "from pathlib import Path\n",
    "\n",
    "# Import specific file from location and read the data as dataframe\n",
    "\n",
    "sp500_path = Path('C:/Users/adria/OneDrive/Desktop/Fintech Bootcamp/GitHub Repository/Pandas/06.04.2022/Activity 4/sp500_companies.csv')\n",
    "sp500_df = pd.read_csv(sp500_path, parse_dates=True, infer_datetime_format=True)\n",
    "\n",
    "sp500_df.head()"
   ]
  },
  {
   "cell_type": "code",
   "execution_count": 6,
   "id": "a5c6091e-5c18-4009-9343-ed62ec66225e",
   "metadata": {},
   "outputs": [
    {
     "data": {
      "text/plain": [
       "Symbol            0.0\n",
       "Name              0.0\n",
       "Sector            0.0\n",
       "Price             0.0\n",
       "Price/Earnings    0.0\n",
       "Dividend Yield    0.0\n",
       "Earnings/Share    0.0\n",
       "52 Week Low       0.0\n",
       "52 Week High      0.0\n",
       "Market Cap        0.0\n",
       "EBITDA            0.0\n",
       "Price/Sales       0.0\n",
       "Price/Book        0.0\n",
       "SEC Filings       0.0\n",
       "dtype: float64"
      ]
     },
     "execution_count": 6,
     "metadata": {},
     "output_type": "execute_result"
    }
   ],
   "source": [
    "# Drop duplicates and null from dataframe\n",
    "sp500_df = sp500_df.dropna().copy()\n",
    "sp500_df = sp500_df.drop_duplicates().copy()\n",
    "\n",
    "# Test to see if there's any na or duplicates left\n",
    "sp500_df.isnull().mean()*100"
   ]
  },
  {
   "cell_type": "code",
   "execution_count": 15,
   "id": "2536b409-f42d-4d63-b39a-a3164f8c178d",
   "metadata": {},
   "outputs": [
    {
     "data": {
      "text/plain": [
       "Consumer Discretionary        82\n",
       "Information Technology        70\n",
       "Financials                    68\n",
       "Industrials                   64\n",
       "Health Care                   59\n",
       "Real Estate                   33\n",
       "Consumer Staples              33\n",
       "Energy                        30\n",
       "Utilities                     28\n",
       "Materials                     25\n",
       "Telecommunication Services     3\n",
       "Name: Sector, dtype: int64"
      ]
     },
     "execution_count": 15,
     "metadata": {},
     "output_type": "execute_result"
    }
   ],
   "source": [
    "# Use value_counts function to find out about sector counts\n",
    "\n",
    "sp500_sector_count = sp500_df[\"Sector\"].value_counts()\n",
    "\n",
    "sp500_sector_count"
   ]
  },
  {
   "cell_type": "code",
   "execution_count": 17,
   "id": "f0644152-5399-485a-a5e1-02756dd67114",
   "metadata": {},
   "outputs": [
    {
     "data": {
      "text/plain": [
       "<AxesSubplot:ylabel='Sector'>"
      ]
     },
     "execution_count": 17,
     "metadata": {},
     "output_type": "execute_result"
    },
    {
     "data": {
      "image/png": "[encoded data removed]",
      "text/plain": [
       "<Figure size 432x288 with 1 Axes>"
      ]
     },
     "metadata": {},
     "output_type": "display_data"
    }
   ],
   "source": [
    "# Plot a pie chart for this market data\n",
    "\n",
    "sp500_sector_count.plot(kind=\"pie\")"
   ]
  },
  {
   "cell_type": "code",
   "execution_count": 18,
   "id": "85744fea-1d58-486a-a64f-392009f9e0f4",
   "metadata": {},
   "outputs": [
    {
     "data": {
      "text/plain": [
       "<AxesSubplot:>"
      ]
     },
     "execution_count": 18,
     "metadata": {},
     "output_type": "execute_result"
    },
    {
     "data": {
      "image/png": "[encoded data removed]",
      "text/plain": [
       "<Figure size 432x288 with 1 Axes>"
      ]
     },
     "metadata": {
      "needs_background": "light"
     },
     "output_type": "display_data"
    }
   ],
   "source": [
    "# Plot a bar chart for the same market data\n",
    "\n",
    "sp500_sector_count.plot(kind=\"bar\")"
   ]
  },
  {
   "cell_type": "code",
   "execution_count": 21,
   "id": "0d912644-74a5-46e4-86c0-4e90e456fc49",
   "metadata": {},
   "outputs": [
    {
     "data": {
      "text/html": [
       "<div>\n",
       "<style scoped>\n",
       "    .dataframe tbody tr th:only-of-type {\n",
       "        vertical-align: middle;\n",
       "    }\n",
       "\n",
       "    .dataframe tbody tr th {\n",
       "        vertical-align: top;\n",
       "    }\n",
       "\n",
       "    .dataframe thead th {\n",
       "        text-align: right;\n",
       "    }\n",
       "</style>\n",
       "<table border=\"1\" class=\"dataframe\">\n",
       "  <thead>\n",
       "    <tr style=\"text-align: right;\">\n",
       "      <th></th>\n",
       "      <th>Name</th>\n",
       "      <th>Market Cap</th>\n",
       "    </tr>\n",
       "  </thead>\n",
       "  <tbody>\n",
       "    <tr>\n",
       "      <th>0</th>\n",
       "      <td>3M Company</td>\n",
       "      <td>138721055226</td>\n",
       "    </tr>\n",
       "    <tr>\n",
       "      <th>1</th>\n",
       "      <td>A.O. Smith Corp</td>\n",
       "      <td>10783419933</td>\n",
       "    </tr>\n",
       "    <tr>\n",
       "      <th>2</th>\n",
       "      <td>Abbott Laboratories</td>\n",
       "      <td>102121042306</td>\n",
       "    </tr>\n",
       "    <tr>\n",
       "      <th>3</th>\n",
       "      <td>AbbVie Inc.</td>\n",
       "      <td>181386347059</td>\n",
       "    </tr>\n",
       "    <tr>\n",
       "      <th>4</th>\n",
       "      <td>Accenture plc</td>\n",
       "      <td>98765855553</td>\n",
       "    </tr>\n",
       "    <tr>\n",
       "      <th>...</th>\n",
       "      <td>...</td>\n",
       "      <td>...</td>\n",
       "    </tr>\n",
       "    <tr>\n",
       "      <th>500</th>\n",
       "      <td>Xylem Inc.</td>\n",
       "      <td>12915021000</td>\n",
       "    </tr>\n",
       "    <tr>\n",
       "      <th>501</th>\n",
       "      <td>Yum! Brands Inc</td>\n",
       "      <td>27003303098</td>\n",
       "    </tr>\n",
       "    <tr>\n",
       "      <th>502</th>\n",
       "      <td>Zimmer Biomet Holdings</td>\n",
       "      <td>24454698119</td>\n",
       "    </tr>\n",
       "    <tr>\n",
       "      <th>503</th>\n",
       "      <td>Zions Bancorp</td>\n",
       "      <td>10670678640</td>\n",
       "    </tr>\n",
       "    <tr>\n",
       "      <th>504</th>\n",
       "      <td>Zoetis</td>\n",
       "      <td>35991109776</td>\n",
       "    </tr>\n",
       "  </tbody>\n",
       "</table>\n",
       "<p>495 rows × 2 columns</p>\n",
       "</div>"
      ],
      "text/plain": [
       "                       Name    Market Cap\n",
       "0                3M Company  138721055226\n",
       "1           A.O. Smith Corp   10783419933\n",
       "2       Abbott Laboratories  102121042306\n",
       "3               AbbVie Inc.  181386347059\n",
       "4             Accenture plc   98765855553\n",
       "..                      ...           ...\n",
       "500              Xylem Inc.   12915021000\n",
       "501         Yum! Brands Inc   27003303098\n",
       "502  Zimmer Biomet Holdings   24454698119\n",
       "503           Zions Bancorp   10670678640\n",
       "504                  Zoetis   35991109776\n",
       "\n",
       "[495 rows x 2 columns]"
      ]
     },
     "execution_count": 21,
     "metadata": {},
     "output_type": "execute_result"
    }
   ],
   "source": [
    "# Create a subset of dataframe for the top 20 companies by market cap\n",
    "\n",
    "market_cap = sp500_df.loc[:,[\"Name\",\"Market Cap\"]]\n",
    "\n",
    "market_cap"
   ]
  },
  {
   "cell_type": "code",
   "execution_count": 24,
   "id": "816471b3-c2a0-4088-8c89-ec5c2738bce7",
   "metadata": {},
   "outputs": [
    {
     "data": {
      "text/html": [
       "<div>\n",
       "<style scoped>\n",
       "    .dataframe tbody tr th:only-of-type {\n",
       "        vertical-align: middle;\n",
       "    }\n",
       "\n",
       "    .dataframe tbody tr th {\n",
       "        vertical-align: top;\n",
       "    }\n",
       "\n",
       "    .dataframe thead th {\n",
       "        text-align: right;\n",
       "    }\n",
       "</style>\n",
       "<table border=\"1\" class=\"dataframe\">\n",
       "  <thead>\n",
       "    <tr style=\"text-align: right;\">\n",
       "      <th></th>\n",
       "      <th>Market Cap</th>\n",
       "    </tr>\n",
       "    <tr>\n",
       "      <th>Name</th>\n",
       "      <th></th>\n",
       "    </tr>\n",
       "  </thead>\n",
       "  <tbody>\n",
       "    <tr>\n",
       "      <th>3M Company</th>\n",
       "      <td>138721055226</td>\n",
       "    </tr>\n",
       "    <tr>\n",
       "      <th>A.O. Smith Corp</th>\n",
       "      <td>10783419933</td>\n",
       "    </tr>\n",
       "    <tr>\n",
       "      <th>Abbott Laboratories</th>\n",
       "      <td>102121042306</td>\n",
       "    </tr>\n",
       "    <tr>\n",
       "      <th>AbbVie Inc.</th>\n",
       "      <td>181386347059</td>\n",
       "    </tr>\n",
       "    <tr>\n",
       "      <th>Accenture plc</th>\n",
       "      <td>98765855553</td>\n",
       "    </tr>\n",
       "    <tr>\n",
       "      <th>...</th>\n",
       "      <td>...</td>\n",
       "    </tr>\n",
       "    <tr>\n",
       "      <th>Xylem Inc.</th>\n",
       "      <td>12915021000</td>\n",
       "    </tr>\n",
       "    <tr>\n",
       "      <th>Yum! Brands Inc</th>\n",
       "      <td>27003303098</td>\n",
       "    </tr>\n",
       "    <tr>\n",
       "      <th>Zimmer Biomet Holdings</th>\n",
       "      <td>24454698119</td>\n",
       "    </tr>\n",
       "    <tr>\n",
       "      <th>Zions Bancorp</th>\n",
       "      <td>10670678640</td>\n",
       "    </tr>\n",
       "    <tr>\n",
       "      <th>Zoetis</th>\n",
       "      <td>35991109776</td>\n",
       "    </tr>\n",
       "  </tbody>\n",
       "</table>\n",
       "<p>495 rows × 1 columns</p>\n",
       "</div>"
      ],
      "text/plain": [
       "                          Market Cap\n",
       "Name                                \n",
       "3M Company              138721055226\n",
       "A.O. Smith Corp          10783419933\n",
       "Abbott Laboratories     102121042306\n",
       "AbbVie Inc.             181386347059\n",
       "Accenture plc            98765855553\n",
       "...                              ...\n",
       "Xylem Inc.               12915021000\n",
       "Yum! Brands Inc          27003303098\n",
       "Zimmer Biomet Holdings   24454698119\n",
       "Zions Bancorp            10670678640\n",
       "Zoetis                   35991109776\n",
       "\n",
       "[495 rows x 1 columns]"
      ]
     },
     "execution_count": 24,
     "metadata": {},
     "output_type": "execute_result"
    }
   ],
   "source": [
    "# Set Name as the index for this subset dataframe\n",
    "\n",
    "market_cap = market_cap.set_index(\"Name\")\n",
    "\n",
    "market_cap"
   ]
  },
  {
   "cell_type": "code",
   "execution_count": 28,
   "id": "be83cd78-c310-4eda-bcf2-8be1608fd2c9",
   "metadata": {},
   "outputs": [
    {
     "data": {
      "text/html": [
       "<div>\n",
       "<style scoped>\n",
       "    .dataframe tbody tr th:only-of-type {\n",
       "        vertical-align: middle;\n",
       "    }\n",
       "\n",
       "    .dataframe tbody tr th {\n",
       "        vertical-align: top;\n",
       "    }\n",
       "\n",
       "    .dataframe thead th {\n",
       "        text-align: right;\n",
       "    }\n",
       "</style>\n",
       "<table border=\"1\" class=\"dataframe\">\n",
       "  <thead>\n",
       "    <tr style=\"text-align: right;\">\n",
       "      <th></th>\n",
       "      <th>Market Cap</th>\n",
       "    </tr>\n",
       "    <tr>\n",
       "      <th>Name</th>\n",
       "      <th></th>\n",
       "    </tr>\n",
       "  </thead>\n",
       "  <tbody>\n",
       "    <tr>\n",
       "      <th>Apple Inc.</th>\n",
       "      <td>809508034020</td>\n",
       "    </tr>\n",
       "    <tr>\n",
       "      <th>Alphabet Inc Class A</th>\n",
       "      <td>733823966137</td>\n",
       "    </tr>\n",
       "    <tr>\n",
       "      <th>Alphabet Inc Class C</th>\n",
       "      <td>728535558140</td>\n",
       "    </tr>\n",
       "    <tr>\n",
       "      <th>Microsoft Corp.</th>\n",
       "      <td>689978437468</td>\n",
       "    </tr>\n",
       "    <tr>\n",
       "      <th>Amazon.com Inc</th>\n",
       "      <td>685873374731</td>\n",
       "    </tr>\n",
       "    <tr>\n",
       "      <th>...</th>\n",
       "      <td>...</td>\n",
       "    </tr>\n",
       "    <tr>\n",
       "      <th>Navient</th>\n",
       "      <td>3692691330</td>\n",
       "    </tr>\n",
       "    <tr>\n",
       "      <th>Range Resources Corp.</th>\n",
       "      <td>3255587970</td>\n",
       "    </tr>\n",
       "    <tr>\n",
       "      <th>Patterson Companies</th>\n",
       "      <td>3209792400</td>\n",
       "    </tr>\n",
       "    <tr>\n",
       "      <th>Signet Jewelers</th>\n",
       "      <td>3034275549</td>\n",
       "    </tr>\n",
       "    <tr>\n",
       "      <th>Chesapeake Energy</th>\n",
       "      <td>2626102121</td>\n",
       "    </tr>\n",
       "  </tbody>\n",
       "</table>\n",
       "<p>495 rows × 1 columns</p>\n",
       "</div>"
      ],
      "text/plain": [
       "                         Market Cap\n",
       "Name                               \n",
       "Apple Inc.             809508034020\n",
       "Alphabet Inc Class A   733823966137\n",
       "Alphabet Inc Class C   728535558140\n",
       "Microsoft Corp.        689978437468\n",
       "Amazon.com Inc         685873374731\n",
       "...                             ...\n",
       "Navient                  3692691330\n",
       "Range Resources Corp.    3255587970\n",
       "Patterson Companies      3209792400\n",
       "Signet Jewelers          3034275549\n",
       "Chesapeake Energy        2626102121\n",
       "\n",
       "[495 rows x 1 columns]"
      ]
     },
     "execution_count": 28,
     "metadata": {},
     "output_type": "execute_result"
    }
   ],
   "source": [
    "# Sort out the 20 largest company by market cap\n",
    "\n",
    "market_cap_arrange = market_cap.sort_values(\"Market Cap\", ascending=False)\n",
    "\n",
    "market_cap_arrange"
   ]
  },
  {
   "cell_type": "code",
   "execution_count": 32,
   "id": "bde106f2-5926-47ff-8da7-7ec8903dddd8",
   "metadata": {},
   "outputs": [
    {
     "data": {
      "text/html": [
       "<div>\n",
       "<style scoped>\n",
       "    .dataframe tbody tr th:only-of-type {\n",
       "        vertical-align: middle;\n",
       "    }\n",
       "\n",
       "    .dataframe tbody tr th {\n",
       "        vertical-align: top;\n",
       "    }\n",
       "\n",
       "    .dataframe thead th {\n",
       "        text-align: right;\n",
       "    }\n",
       "</style>\n",
       "<table border=\"1\" class=\"dataframe\">\n",
       "  <thead>\n",
       "    <tr style=\"text-align: right;\">\n",
       "      <th></th>\n",
       "      <th>Market Cap</th>\n",
       "    </tr>\n",
       "    <tr>\n",
       "      <th>Name</th>\n",
       "      <th></th>\n",
       "    </tr>\n",
       "  </thead>\n",
       "  <tbody>\n",
       "    <tr>\n",
       "      <th>Apple Inc.</th>\n",
       "      <td>809508034020</td>\n",
       "    </tr>\n",
       "    <tr>\n",
       "      <th>Alphabet Inc Class A</th>\n",
       "      <td>733823966137</td>\n",
       "    </tr>\n",
       "    <tr>\n",
       "      <th>Alphabet Inc Class C</th>\n",
       "      <td>728535558140</td>\n",
       "    </tr>\n",
       "    <tr>\n",
       "      <th>Microsoft Corp.</th>\n",
       "      <td>689978437468</td>\n",
       "    </tr>\n",
       "    <tr>\n",
       "      <th>Amazon.com Inc</th>\n",
       "      <td>685873374731</td>\n",
       "    </tr>\n",
       "    <tr>\n",
       "      <th>Facebook, Inc.</th>\n",
       "      <td>523423036576</td>\n",
       "    </tr>\n",
       "    <tr>\n",
       "      <th>JPMorgan Chase &amp; Co.</th>\n",
       "      <td>386613611000</td>\n",
       "    </tr>\n",
       "    <tr>\n",
       "      <th>Johnson &amp; Johnson</th>\n",
       "      <td>353062464971</td>\n",
       "    </tr>\n",
       "    <tr>\n",
       "      <th>Exxon Mobil Corp.</th>\n",
       "      <td>326148660000</td>\n",
       "    </tr>\n",
       "    <tr>\n",
       "      <th>Bank of America Corp</th>\n",
       "      <td>321478200969</td>\n",
       "    </tr>\n",
       "    <tr>\n",
       "      <th>Wal-Mart Stores</th>\n",
       "      <td>304680931618</td>\n",
       "    </tr>\n",
       "    <tr>\n",
       "      <th>Wells Fargo</th>\n",
       "      <td>281463620775</td>\n",
       "    </tr>\n",
       "    <tr>\n",
       "      <th>Visa Inc.</th>\n",
       "      <td>270038723213</td>\n",
       "    </tr>\n",
       "    <tr>\n",
       "      <th>Berkshire Hathaway</th>\n",
       "      <td>261401203633</td>\n",
       "    </tr>\n",
       "    <tr>\n",
       "      <th>AT&amp;T Inc</th>\n",
       "      <td>226713270000</td>\n",
       "    </tr>\n",
       "    <tr>\n",
       "      <th>Home Depot</th>\n",
       "      <td>223378633329</td>\n",
       "    </tr>\n",
       "    <tr>\n",
       "      <th>Chevron Corp.</th>\n",
       "      <td>218978820159</td>\n",
       "    </tr>\n",
       "    <tr>\n",
       "      <th>United Health Group Inc.</th>\n",
       "      <td>218834811333</td>\n",
       "    </tr>\n",
       "    <tr>\n",
       "      <th>Intel Corp.</th>\n",
       "      <td>211536000000</td>\n",
       "    </tr>\n",
       "    <tr>\n",
       "      <th>Pfizer Inc.</th>\n",
       "      <td>208505541949</td>\n",
       "    </tr>\n",
       "  </tbody>\n",
       "</table>\n",
       "</div>"
      ],
      "text/plain": [
       "                            Market Cap\n",
       "Name                                  \n",
       "Apple Inc.                809508034020\n",
       "Alphabet Inc Class A      733823966137\n",
       "Alphabet Inc Class C      728535558140\n",
       "Microsoft Corp.           689978437468\n",
       "Amazon.com Inc            685873374731\n",
       "Facebook, Inc.            523423036576\n",
       "JPMorgan Chase & Co.      386613611000\n",
       "Johnson & Johnson         353062464971\n",
       "Exxon Mobil Corp.         326148660000\n",
       "Bank of America Corp      321478200969\n",
       "Wal-Mart Stores           304680931618\n",
       "Wells Fargo               281463620775\n",
       "Visa Inc.                 270038723213\n",
       "Berkshire Hathaway        261401203633\n",
       "AT&T Inc                  226713270000\n",
       "Home Depot                223378633329\n",
       "Chevron Corp.             218978820159\n",
       "United Health Group Inc.  218834811333\n",
       "Intel Corp.               211536000000\n",
       "Pfizer Inc.               208505541949"
      ]
     },
     "execution_count": 32,
     "metadata": {},
     "output_type": "execute_result"
    }
   ],
   "source": [
    "# Slice out the top 20 as subset dataframe\n",
    "\n",
    "top_20_market_cap = market_cap_arrange.iloc[:20]\n",
    "\n",
    "top_20_market_cap"
   ]
  },
  {
   "cell_type": "code",
   "execution_count": 33,
   "id": "c700c321-7758-4ebe-997b-d9d806ce8b55",
   "metadata": {},
   "outputs": [
    {
     "data": {
      "text/plain": [
       "<AxesSubplot:xlabel='Name'>"
      ]
     },
     "execution_count": 33,
     "metadata": {},
     "output_type": "execute_result"
    },
    {
     "data": {
      "image/png": "[encoded data removed]",
      "text/plain": [
       "<Figure size 432x288 with 1 Axes>"
      ]
     },
     "metadata": {
      "needs_background": "light"
     },
     "output_type": "display_data"
    }
   ],
   "source": [
    "# Plot bar chart for top 20 market cap\n",
    "\n",
    "top_20_market_cap.plot(kind=\"bar\")"
   ]
  },
  {
   "cell_type": "code",
   "execution_count": 37,
   "id": "a84fadd5-8745-4ed4-8f2f-36c036ee0344",
   "metadata": {},
   "outputs": [
    {
     "data": {
      "text/plain": [
       "Name\n",
       "Apple Inc.                  809508034020\n",
       "Alphabet Inc Class A        733823966137\n",
       "Alphabet Inc Class C        728535558140\n",
       "Microsoft Corp.             689978437468\n",
       "Amazon.com Inc              685873374731\n",
       "Facebook, Inc.              523423036576\n",
       "JPMorgan Chase & Co.        386613611000\n",
       "Johnson & Johnson           353062464971\n",
       "Exxon Mobil Corp.           326148660000\n",
       "Bank of America Corp        321478200969\n",
       "Wal-Mart Stores             304680931618\n",
       "Wells Fargo                 281463620775\n",
       "Visa Inc.                   270038723213\n",
       "Berkshire Hathaway          261401203633\n",
       "AT&T Inc                    226713270000\n",
       "Home Depot                  223378633329\n",
       "Chevron Corp.               218978820159\n",
       "United Health Group Inc.    218834811333\n",
       "Intel Corp.                 211536000000\n",
       "Pfizer Inc.                 208505541949\n",
       "Name: Market Cap, dtype: int64"
      ]
     },
     "execution_count": 37,
     "metadata": {},
     "output_type": "execute_result"
    }
   ],
   "source": [
    "# Another function to find the top 20 largest by market cap\n",
    "\n",
    "top_20_market_cap_alt = market_cap[\"Market Cap\"].nlargest(20)\n",
    "\n",
    "top_20_market_cap_alt"
   ]
  },
  {
   "cell_type": "code",
   "execution_count": 46,
   "id": "452ac8ce-0556-439c-8aef-1a3d61daa7d8",
   "metadata": {},
   "outputs": [
    {
     "data": {
      "text/plain": [
       "<AxesSubplot:title={'center':'Top 20 Largest Companies by Market Cap'}, xlabel='Name'>"
      ]
     },
     "execution_count": 46,
     "metadata": {},
     "output_type": "execute_result"
    },
    {
     "data": {
      "image/png": "[encoded data removed]",
      "text/plain": [
       "<Figure size 432x288 with 1 Axes>"
      ]
     },
     "metadata": {
      "needs_background": "light"
     },
     "output_type": "display_data"
    }
   ],
   "source": [
    "top_20_market_cap_alt.plot(kind=\"bar\", title=\"Top 20 Largest Companies by Market Cap\")"
   ]
  },
  {
   "cell_type": "code",
   "execution_count": 51,
   "id": "81d9b025-6c65-4842-82a7-084906e2fc28",
   "metadata": {},
   "outputs": [
    {
     "data": {
      "text/html": [
       "<div>\n",
       "<style scoped>\n",
       "    .dataframe tbody tr th:only-of-type {\n",
       "        vertical-align: middle;\n",
       "    }\n",
       "\n",
       "    .dataframe tbody tr th {\n",
       "        vertical-align: top;\n",
       "    }\n",
       "\n",
       "    .dataframe thead th {\n",
       "        text-align: right;\n",
       "    }\n",
       "</style>\n",
       "<table border=\"1\" class=\"dataframe\">\n",
       "  <thead>\n",
       "    <tr style=\"text-align: right;\">\n",
       "      <th></th>\n",
       "      <th>Price</th>\n",
       "      <th>Price/Earnings</th>\n",
       "    </tr>\n",
       "  </thead>\n",
       "  <tbody>\n",
       "    <tr>\n",
       "      <th>0</th>\n",
       "      <td>222.89</td>\n",
       "      <td>24.31</td>\n",
       "    </tr>\n",
       "    <tr>\n",
       "      <th>1</th>\n",
       "      <td>60.24</td>\n",
       "      <td>27.76</td>\n",
       "    </tr>\n",
       "    <tr>\n",
       "      <th>2</th>\n",
       "      <td>56.27</td>\n",
       "      <td>22.51</td>\n",
       "    </tr>\n",
       "    <tr>\n",
       "      <th>3</th>\n",
       "      <td>108.48</td>\n",
       "      <td>19.41</td>\n",
       "    </tr>\n",
       "    <tr>\n",
       "      <th>4</th>\n",
       "      <td>150.51</td>\n",
       "      <td>25.47</td>\n",
       "    </tr>\n",
       "    <tr>\n",
       "      <th>...</th>\n",
       "      <td>...</td>\n",
       "      <td>...</td>\n",
       "    </tr>\n",
       "    <tr>\n",
       "      <th>500</th>\n",
       "      <td>70.24</td>\n",
       "      <td>30.94</td>\n",
       "    </tr>\n",
       "    <tr>\n",
       "      <th>501</th>\n",
       "      <td>76.30</td>\n",
       "      <td>27.25</td>\n",
       "    </tr>\n",
       "    <tr>\n",
       "      <th>502</th>\n",
       "      <td>115.53</td>\n",
       "      <td>14.32</td>\n",
       "    </tr>\n",
       "    <tr>\n",
       "      <th>503</th>\n",
       "      <td>50.71</td>\n",
       "      <td>17.73</td>\n",
       "    </tr>\n",
       "    <tr>\n",
       "      <th>504</th>\n",
       "      <td>71.51</td>\n",
       "      <td>32.80</td>\n",
       "    </tr>\n",
       "  </tbody>\n",
       "</table>\n",
       "<p>495 rows × 2 columns</p>\n",
       "</div>"
      ],
      "text/plain": [
       "      Price  Price/Earnings\n",
       "0    222.89           24.31\n",
       "1     60.24           27.76\n",
       "2     56.27           22.51\n",
       "3    108.48           19.41\n",
       "4    150.51           25.47\n",
       "..      ...             ...\n",
       "500   70.24           30.94\n",
       "501   76.30           27.25\n",
       "502  115.53           14.32\n",
       "503   50.71           17.73\n",
       "504   71.51           32.80\n",
       "\n",
       "[495 rows x 2 columns]"
      ]
     },
     "execution_count": 51,
     "metadata": {},
     "output_type": "execute_result"
    }
   ],
   "source": [
    "# Sub set for Price and Price/Earning ratio\n",
    "\n",
    "ppe_df = sp500_df.loc[:,[\"Price\",\"Price/Earnings\"]]\n",
    "\n",
    "ppe_df"
   ]
  },
  {
   "cell_type": "code",
   "execution_count": 55,
   "id": "5b3f69b9-4815-4cf8-839a-9ac5ad7a10da",
   "metadata": {},
   "outputs": [
    {
     "data": {
      "text/plain": [
       "<AxesSubplot:xlabel='Price/Earnings', ylabel='Price'>"
      ]
     },
     "execution_count": 55,
     "metadata": {},
     "output_type": "execute_result"
    },
    {
     "data": {
      "image/png": "[encoded data removed]",
      "text/plain": [
       "<Figure size 432x288 with 1 Axes>"
      ]
     },
     "metadata": {
      "needs_background": "light"
     },
     "output_type": "display_data"
    }
   ],
   "source": [
    "sp500_df.plot(kind=\"scatter\", x=\"Price/Earnings\", y=\"Price\")"
   ]
  },
  {
   "cell_type": "code",
   "execution_count": null,
   "id": "921fc094-286f-4a0d-a956-505ae01f9c92",
   "metadata": {},
   "outputs": [],
   "source": [
    "\""
   ]
  }
 ],
 "metadata": {
  "kernelspec": {
   "display_name": "Python 3 (ipykernel)",
   "language": "python",
   "name": "python3"
  },
  "language_info": {
   "codemirror_mode": {
    "name": "ipython",
    "version": 3
   },
   "file_extension": ".py",
   "mimetype": "text/x-python",
   "name": "python",
   "nbconvert_exporter": "python",
   "pygments_lexer": "ipython3",
   "version": "3.9.12"
  }
 },
 "nbformat": 4,
 "nbformat_minor": 5
}
